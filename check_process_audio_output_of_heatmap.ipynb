{
 "cells": [
  {
   "cell_type": "code",
   "execution_count": null,
   "metadata": {},
   "outputs": [],
   "source": []
  },
  {
   "cell_type": "code",
   "execution_count": null,
   "metadata": {},
   "outputs": [],
   "source": [
    "import os\n",
    "import cv2\n",
    "import scipy\n",
    "import tempfile\n",
    "import numpy as np\n",
    "import tensorflow as tf\n",
    "from subprocess import call\n",
    "from scipy.io import wavfile\n",
    "from tqdm import tqdm\n",
    "\n",
    "#from psbody.mesh import Mesh\n",
    "#from utils.audio_handler import  AudioHandler\n",
    "#from utils.rendering import render_mesh_helper\n",
    "\n",
    "def process_audio(ds_path, audio, sample_rate):\n",
    "    config = {}\n",
    "    config['deepspeech_graph_fname'] = ds_path\n",
    "    config['audio_feature_type'] = 'deepspeech'\n",
    "    config['num_audio_features'] = 29\n",
    "\n",
    "    config['audio_window_size'] = 16\n",
    "    config['audio_window_stride'] = 1\n",
    "\n",
    "    tmp_audio = {'subj': {'seq': {'audio': audio, 'sample_rate': sample_rate}}}\n",
    "    audio_handler = AudioHandler(config)\n",
    "    return audio_handler.process(tmp_audio)['subj']['seq']['audio']"
   ]
  },
  {
   "cell_type": "code",
   "execution_count": null,
   "metadata": {},
   "outputs": [],
   "source": [
    "'''\n",
    "Max-Planck-Gesellschaft zur Foerderung der Wissenschaften e.V. (MPG) is holder of all proprietary rights on this\n",
    "computer program.\n",
    "\n",
    "You can only use this computer program if you have closed a license agreement with MPG or you get the right to use\n",
    "the computer program from someone who is authorized to grant you that right.\n",
    "\n",
    "Any use of the computer program without a valid license is prohibited and liable to prosecution.\n",
    "\n",
    "Copyright 2019 Max-Planck-Gesellschaft zur Foerderung der Wissenschaften e.V. (MPG). acting on behalf of its\n",
    "Max Planck Institute for Intelligent Systems and the Max Planck Institute for Biological Cybernetics.\n",
    "All rights reserved.\n",
    "\n",
    "More information about VOCA is available at http://voca.is.tue.mpg.de.\n",
    "For comments or questions, please email us at voca@tue.mpg.de\n",
    "'''\n",
    "\n",
    "import re\n",
    "import copy\n",
    "import resampy\n",
    "import numpy as np\n",
    "import tensorflow as tf\n",
    "import tensorflow.compat.v1 as v1\n",
    "#from python_speech_features import mfcc\n",
    "\n",
    "\n",
    "import librosa\n",
    "\n",
    "\n",
    "def interpolate_features(features, input_rate, output_rate, output_len=None):\n",
    "    num_features = features.shape[1]\n",
    "    input_len = features.shape[0]\n",
    "    seq_len = input_len / float(input_rate)\n",
    "    if output_len is None:\n",
    "        output_len = int(seq_len * output_rate)\n",
    "    input_timestamps = np.arange(input_len) / float(input_rate)\n",
    "    output_timestamps = np.arange(output_len) / float(output_rate)\n",
    "    output_features = np.zeros((output_len, num_features))\n",
    "    for feat in range(num_features):\n",
    "        output_features[:, feat] = np.interp(output_timestamps,\n",
    "                                             input_timestamps,\n",
    "                                             features[:, feat])\n",
    "    return output_features\n",
    "\n",
    "class AudioHandler:\n",
    "    def __init__(self, config):\n",
    "        self.config = config\n",
    "        self.audio_feature_type = config['audio_feature_type']\n",
    "        self.num_audio_features = config['num_audio_features']\n",
    "        self.audio_window_size = config['audio_window_size']\n",
    "        self.audio_window_stride = config['audio_window_stride']\n",
    "\n",
    "    def process(self, audio):\n",
    "        if self.audio_feature_type.lower() == \"none\":\n",
    "            return None\n",
    "        elif self.audio_feature_type.lower() == 'deepspeech':\n",
    "            return self.convert_to_deepspeech(audio)\n",
    "        else:\n",
    "            raise NotImplementedError(\"Audio features not supported\")\n",
    "\n",
    "    def convert_to_deepspeech(self, audio):\n",
    "        def audioToInputVector(audio, fs, numcep, numcontext):\n",
    "            # Get mfcc coefficients\n",
    "            #features = mfcc(audio, samplerate=fs, numcep=numcep)\n",
    "            features = librosa.feature.mfcc(y = audio, sr = fs, n_mfcc=numcep)\n",
    "            #print(features.shape)\n",
    "            # We only keep every second feature (BiRNN stride = 2)\n",
    "            \n",
    "            #features = features[::2]\n",
    "\n",
    "            # One stride per time step in the input\n",
    "            num_strides = len(features)\n",
    "            # Add empty initial and final contexts\n",
    "            empty_context = np.zeros((numcontext, numcep), dtype=features.dtype)\n",
    "            features = np.concatenate((empty_context, features.T, empty_context))\n",
    "\n",
    "            # Create a view into the array with overlapping strides of size\n",
    "            # numcontext (past) + 1 (present) + numcontext (future)\n",
    "            window_size = 2 * numcontext + 1\n",
    "            train_inputs = np.lib.stride_tricks.as_strided(\n",
    "                features,\n",
    "                (num_strides, window_size, numcep),\n",
    "                (features.strides[0], features.strides[0], features.strides[1]),\n",
    "                writeable=False)\n",
    "\n",
    "            # Flatten the second and third dimensions\n",
    "            train_inputs = np.reshape(train_inputs, [num_strides, -1])\n",
    "\n",
    "            train_inputs = np.copy(train_inputs)\n",
    "            train_inputs = (train_inputs - np.mean(train_inputs)) / np.std(train_inputs)\n",
    "\n",
    "            # Return results\n",
    "            return train_inputs\n",
    "\n",
    "        if type(audio) == dict:\n",
    "            pass\n",
    "        else:\n",
    "            raise ValueError('Wrong type for audio')\n",
    "\n",
    "        # Load graph and place_holders\n",
    "        with v1.gfile.GFile(self.config['deepspeech_graph_fname'], \"rb\") as f:\n",
    "            graph_def = v1.GraphDef()\n",
    "            graph_def.ParseFromString(f.read())\n",
    "        \n",
    "        graph = v1.get_default_graph()\n",
    "        v1.import_graph_def(graph_def, name=\"deepspeech\")\n",
    "        input_tensor = graph.get_tensor_by_name('input_node:0')\n",
    "        seq_length = graph.get_tensor_by_name('input_lengths:0')\n",
    "        layer_6 = graph.get_tensor_by_name('logits:0')\n",
    "        \n",
    "        \n",
    "       \n",
    "        n_input = 26\n",
    "        n_context = 9\n",
    "\n",
    "        processed_audio = copy.deepcopy(audio)\n",
    "        with v1.Session(graph=graph) as sess:\n",
    "            for subj in audio.keys():\n",
    "                for seq in audio[subj].keys():\n",
    "                    #print('process audio: %s - %s' % (subj, seq))\n",
    "\n",
    "                    audio_sample = audio[subj][seq]['audio']\n",
    "                    sample_rate = audio[subj][seq]['sample_rate']\n",
    "                    resampled_audio = resampy.resample(audio_sample.astype(float), sample_rate, 16000)\n",
    "                    input_vector = audioToInputVector(resampled_audio, 16000, n_input, n_context)\n",
    "\n",
    "                    network_output = sess.run(layer_6, feed_dict={input_tensor: input_vector[np.newaxis, ...],\n",
    "                                                                  seq_length: [input_vector.shape[0]]})\n",
    "                    # Resample network output from 50 fps to 60 fps\n",
    "                    audio_len_s = float(audio_sample.shape[0]) / sample_rate\n",
    "                    num_frames = int(round(audio_len_s * 25))\n",
    "                    network_output = interpolate_features(network_output[:, 0], 50, 25,\n",
    "                                                          output_len=num_frames)\n",
    "\n",
    "                    # Make windows\n",
    "                    zero_pad = np.zeros((int(self.audio_window_size / 2), network_output.shape[1]))\n",
    "                    network_output = np.concatenate((zero_pad, network_output, zero_pad), axis=0)\n",
    "                    windows = []\n",
    "                    for window_index in range(0, network_output.shape[0] - self.audio_window_size, self.audio_window_stride):\n",
    "                        windows.append(network_output[window_index:window_index + self.audio_window_size])\n",
    "\n",
    "                    processed_audio[subj][seq]['audio'] = np.array(windows)\n",
    "        return processed_audio\n",
    "    \n"
   ]
  },
  {
   "cell_type": "code",
   "execution_count": null,
   "metadata": {},
   "outputs": [],
   "source": [
    "# -*- coding: utf-8 -*-\n",
    "# Soohwan Kim, Seyoung Bae, Cheolhwang Won.\n",
    "# @ArXiv : KoSpeech: Open-Source Toolkit for End-to-End Korean Speech Recognition\n",
    "# This source code is licensed under the Apache 2.0 License license found in the\n",
    "# LICENSE file in the root directory of this source tree.\n",
    "\n",
    "import torch\n",
    "import torch.nn as nn\n",
    "from typing import Tuple, Optional, Any\n",
    "from torch import Tensor, BoolTensor\n",
    "\n",
    "\n",
    "class MaskConv(nn.Module):\n",
    "    \"\"\"\n",
    "    Masking Convolutional Neural Network\n",
    "\n",
    "    Adds padding to the output of the module based on the given lengths.\n",
    "    This is to ensure that the results of the model do not change when batch sizes change during inference.\n",
    "    Input needs to be in the shape of (batch_size, channel, hidden_dim, seq_len)\n",
    "\n",
    "    Refer to https://github.com/SeanNaren/deepspeech.pytorch/blob/master/model.py\n",
    "    Copyright (c) 2017 Sean Naren\n",
    "    MIT License\n",
    "\n",
    "    Args:\n",
    "        sequential (torch.nn): sequential list of convolution layer\n",
    "\n",
    "    Inputs: inputs, seq_lengths\n",
    "        - **inputs** (torch.FloatTensor): The input of size BxCxHxT\n",
    "        - **seq_lengths** (torch.IntTensor): The actual length of each sequence in the batch\n",
    "\n",
    "    Returns: output, seq_lengths\n",
    "        - **output**: Masked output from the sequential\n",
    "        - **seq_lengths**: Sequence length of output from the sequential\n",
    "    \"\"\"\n",
    "    def __init__(self, sequential: nn.Sequential) -> None:\n",
    "        super(MaskConv, self).__init__()\n",
    "        self.sequential = sequential\n",
    "\n",
    "    def forward(self, inputs: Tensor, seq_lengths: Tensor) -> Tuple[Tensor, Tensor]:\n",
    "        output = None\n",
    "\n",
    "        for module in self.sequential:\n",
    "            output = module(inputs)\n",
    "            mask = BoolTensor(output.size()).fill_(0)\n",
    "\n",
    "            if output.is_cuda:\n",
    "                mask = mask.cuda()\n",
    "\n",
    "            seq_lengths = self.get_sequence_lengths(module, seq_lengths)\n",
    "\n",
    "            for idx, length in enumerate(seq_lengths):\n",
    "                length = length.item()\n",
    "\n",
    "                if (mask[idx].size(2) - length) > 0:\n",
    "                    mask[idx].narrow(dim=2, start=length, length=mask[idx].size(2) - length).fill_(1)\n",
    "\n",
    "            output = output.masked_fill(mask, 0)\n",
    "            inputs = output\n",
    "\n",
    "        return output, seq_lengths\n",
    "\n",
    "    def get_sequence_lengths(self, module: nn.Module, seq_lengths: Tensor) -> Tensor:\n",
    "        \"\"\"\n",
    "        Calculate convolutional neural network receptive formula\n",
    "\n",
    "        Args:\n",
    "            module (torch.nn.Module): module of CNN\n",
    "            seq_lengths (torch.IntTensor): The actual length of each sequence in the batch\n",
    "\n",
    "        Returns: seq_lengths\n",
    "            - **seq_lengths**: Sequence length of output from the module\n",
    "        \"\"\"\n",
    "        if isinstance(module, nn.Conv2d):\n",
    "            numerator = seq_lengths + 2 * module.padding[1] - module.dilation[1] * (module.kernel_size[1] - 1) - 1\n",
    "            seq_lengths = numerator / module.stride[1] + 1\n",
    "\n",
    "        elif isinstance(module, nn.MaxPool2d):\n",
    "            seq_lengths >>= 1\n",
    "\n",
    "        return seq_lengths.int()\n",
    "\n",
    "\n",
    "class CNNExtractor(nn.Module):\n",
    "    \"\"\"\n",
    "    Provides inteface of convolutional extractor.\n",
    "\n",
    "    Note:\n",
    "        Do not use this class directly, use one of the sub classes.\n",
    "    \"\"\"\n",
    "    supported_activations = {\n",
    "        'hardtanh': nn.Hardtanh(0, 20, inplace=True),\n",
    "        'relu': nn.ReLU(inplace=True),\n",
    "        'elu': nn.ELU(inplace=True),\n",
    "        'leaky_relu': nn.LeakyReLU(inplace=True),\n",
    "        'gelu': nn.GELU()\n",
    "    }\n",
    "\n",
    "    def __init__(self, activation: str = 'hardtanh') -> None:\n",
    "        super(CNNExtractor, self).__init__()\n",
    "        self.activation = CNNExtractor.supported_activations[activation]\n",
    "\n",
    "    def forward(self, inputs: Tensor, input_lengths: Tensor) -> Optional[Any]:\n",
    "        raise NotImplementedError\n",
    "\n",
    "\n",
    "class VGGExtractor(CNNExtractor):\n",
    "    \"\"\"\n",
    "    VGG extractor for automatic speech recognition described in\n",
    "    \"Advances in Joint CTC-Attention based End-to-End Speech Recognition with a Deep CNN Encoder and RNN-LM\" paper\n",
    "    - https://arxiv.org/pdf/1706.02737.pdf\n",
    "    \"\"\"\n",
    "    def __init__(self, activation: str, mask_conv: bool):\n",
    "        super(VGGExtractor, self).__init__(activation)\n",
    "        self.mask_conv = mask_conv\n",
    "        self.conv = nn.Sequential(\n",
    "            nn.Conv2d(1, 64, kernel_size=3, stride=1, padding=1, bias=False),\n",
    "            nn.BatchNorm2d(num_features=64),\n",
    "            self.activation,\n",
    "            nn.Conv2d(64, 64, kernel_size=3, stride=1, padding=1, bias=False),\n",
    "            nn.BatchNorm2d(num_features=64),\n",
    "            self.activation,\n",
    "            nn.MaxPool2d(2, stride=2),\n",
    "            nn.Conv2d(64, 128, kernel_size=3, stride=1, padding=1, bias=False),\n",
    "            nn.BatchNorm2d(num_features=128),\n",
    "            self.activation,\n",
    "            nn.Conv2d(128, 128, kernel_size=3, stride=1, padding=1, bias=False),\n",
    "            nn.BatchNorm2d(num_features=128),\n",
    "            self.activation,\n",
    "            nn.MaxPool2d(2, stride=2)\n",
    "        )\n",
    "        if mask_conv:\n",
    "            self.conv = MaskConv(self.conv)\n",
    "\n",
    "    def forward(self, inputs: Tensor, input_lengths: Tensor) -> Optional[Any]:\n",
    "        if self.mask_conv:\n",
    "            conv_feat, seq_lengths = self.conv(inputs, input_lengths)\n",
    "            output = conv_feat, seq_lengths\n",
    "        else:\n",
    "            conv_feat = self.conv(inputs)\n",
    "            output = conv_feat\n",
    "\n",
    "        return output\n",
    "\n",
    "\n",
    "class DeepSpeech2Extractor(CNNExtractor):\n",
    "    \"\"\"\n",
    "    DeepSpeech2 extractor for automatic speech recognition described in\n",
    "    \"Deep Speech 2: End-to-End Speech Recognition in English and Mandarin\" paper\n",
    "    - https://arxiv.org/abs/1512.02595\n",
    "    \"\"\"\n",
    "    def __init__(self, activation: str = 'hardtanh', mask_conv: bool = False) -> None:\n",
    "        super(DeepSpeech2Extractor, self).__init__(activation)\n",
    "        self.mask_conv = mask_conv\n",
    "        self.conv = nn.Sequential(\n",
    "            nn.Conv2d(1, 32, kernel_size=(41, 11), stride=(2, 2), padding=(20, 5), bias=False),\n",
    "            nn.BatchNorm2d(32),\n",
    "            self.activation,\n",
    "            nn.Conv2d(32, 32, kernel_size=(21, 11), stride=(2, 1), padding=(10, 5), bias=False),\n",
    "            nn.BatchNorm2d(32),\n",
    "            self.activation\n",
    "        )\n",
    "        if mask_conv:\n",
    "            self.conv = MaskConv(self.conv)\n",
    "\n",
    "    def forward(self, inputs: Tensor, input_lengths: Tensor) -> Optional[Any]:\n",
    "        if self.mask_conv:\n",
    "            conv_feat, seq_lengths = self.conv(inputs, input_lengths)\n",
    "            output = conv_feat, seq_lengths\n",
    "        else:\n",
    "            conv_feat = self.conv(inputs)\n",
    "            output = conv_feat\n",
    "\n",
    "        return output\n"
   ]
  },
  {
   "cell_type": "code",
   "execution_count": null,
   "metadata": {},
   "outputs": [],
   "source": []
  },
  {
   "cell_type": "code",
   "execution_count": null,
   "metadata": {},
   "outputs": [],
   "source": []
  },
  {
   "cell_type": "code",
   "execution_count": null,
   "metadata": {},
   "outputs": [],
   "source": []
  },
  {
   "cell_type": "code",
   "execution_count": 1,
   "metadata": {},
   "outputs": [],
   "source": [
    "import numpy as np"
   ]
  },
  {
   "cell_type": "code",
   "execution_count": 2,
   "metadata": {},
   "outputs": [],
   "source": [
    "a = np.load('../crop/german/001/001_0000.npy')"
   ]
  },
  {
   "cell_type": "code",
   "execution_count": 4,
   "metadata": {},
   "outputs": [
    {
     "data": {
      "text/plain": [
       "(16, 29)"
      ]
     },
     "execution_count": 4,
     "metadata": {},
     "output_type": "execute_result"
    }
   ],
   "source": [
    "a.shape"
   ]
  },
  {
   "cell_type": "code",
   "execution_count": 5,
   "metadata": {},
   "outputs": [
    {
     "name": "stdout",
     "output_type": "stream",
     "text": [
      "(5600, 16, 29)\n",
      "(5600, 16, 29)\n"
     ]
    }
   ],
   "source": [
    "import os\n",
    "import numpy as np\n",
    "import matplotlib.pyplot as plt\n",
    "import seaborn as sns\n",
    "\n",
    "ori = np.load('./voca-master/output/001_0112.npy')\n",
    "rev = np.load('./voca-master/output/001_0112_re.npy')\n",
    "\n",
    "print(ori.shape)\n",
    "print(rev.shape)"
   ]
  },
  {
   "cell_type": "code",
   "execution_count": 11,
   "metadata": {},
   "outputs": [
    {
     "name": "stdout",
     "output_type": "stream",
     "text": [
      "2800.0\n"
     ]
    }
   ],
   "source": [
    "import cv2\n",
    "video_path = '/home/chuhk/voice_puppetry/crop/german_rework/001/001.mp4'\n",
    "vidcap = cv2.VideoCapture(video_path)\n",
    "\n",
    "\n",
    "fps = vidcap.get(cv2.CAP_PROP_FRAME_COUNT)\n",
    "print(fps)"
   ]
  },
  {
   "cell_type": "code",
   "execution_count": 12,
   "metadata": {},
   "outputs": [
    {
     "ename": "NameError",
     "evalue": "name 'rev_rev' is not defined",
     "output_type": "error",
     "traceback": [
      "\u001b[0;31m---------------------------------------------------------------------------\u001b[0m",
      "\u001b[0;31mNameError\u001b[0m                                 Traceback (most recent call last)",
      "\u001b[0;32m<ipython-input-12-370c841a4642>\u001b[0m in \u001b[0;36m<module>\u001b[0;34m\u001b[0m\n\u001b[0;32m----> 1\u001b[0;31m \u001b[0mnp\u001b[0m\u001b[0;34m.\u001b[0m\u001b[0marray_equal\u001b[0m\u001b[0;34m(\u001b[0m\u001b[0mrev\u001b[0m\u001b[0;34m,\u001b[0m \u001b[0mnp\u001b[0m\u001b[0;34m.\u001b[0m\u001b[0mflip\u001b[0m\u001b[0;34m(\u001b[0m\u001b[0mrev_rev\u001b[0m\u001b[0;34m)\u001b[0m\u001b[0;34m)\u001b[0m\u001b[0;34m\u001b[0m\u001b[0;34m\u001b[0m\u001b[0m\n\u001b[0m",
      "\u001b[0;31mNameError\u001b[0m: name 'rev_rev' is not defined"
     ]
    }
   ],
   "source": [
    "np.array_equal(rev, np.flip(rev_rev))"
   ]
  },
  {
   "cell_type": "code",
   "execution_count": 13,
   "metadata": {},
   "outputs": [
    {
     "data": {
      "text/plain": [
       "(array([   0,    0,    0, ..., 5599, 5599, 5599]),\n",
       " array([ 0,  0,  0, ..., 15, 15, 15]),\n",
       " array([ 0,  1,  2, ..., 26, 27, 28]))"
      ]
     },
     "execution_count": 13,
     "metadata": {},
     "output_type": "execute_result"
    }
   ],
   "source": [
    "np.where(ori==rev)"
   ]
  },
  {
   "cell_type": "code",
   "execution_count": 14,
   "metadata": {},
   "outputs": [
    {
     "name": "stdout",
     "output_type": "stream",
     "text": [
      "(5600, 16, 29)\n"
     ]
    }
   ],
   "source": [
    "rev_rev=np.flip(rev)\n",
    "print(rev_rev.shape)\n",
    "\n",
    "\n",
    "#ori==rev_rev"
   ]
  },
  {
   "cell_type": "code",
   "execution_count": 3,
   "metadata": {},
   "outputs": [],
   "source": [
    "from scipy.io import wavfile\n",
    "\n",
    "o_p='../crop/german_rework/001/001.wav'\n",
    "r_p='../crop/german_rework/001/001_re.wav'\n"
   ]
  },
  {
   "cell_type": "code",
   "execution_count": 33,
   "metadata": {},
   "outputs": [],
   "source": [
    "s, audio_file = wavfile.read(o_p)\n",
    "ss, audio_file_re = wavfile.read(r_p)"
   ]
  },
  {
   "cell_type": "code",
   "execution_count": 34,
   "metadata": {},
   "outputs": [
    {
     "data": {
      "text/plain": [
       "True"
      ]
     },
     "execution_count": 34,
     "metadata": {},
     "output_type": "execute_result"
    }
   ],
   "source": [
    "audio_file.shape == audio_file_re.shape"
   ]
  },
  {
   "cell_type": "code",
   "execution_count": 35,
   "metadata": {},
   "outputs": [
    {
     "data": {
      "text/plain": [
       "False"
      ]
     },
     "execution_count": 35,
     "metadata": {},
     "output_type": "execute_result"
    }
   ],
   "source": [
    "audio_file_re_re=np.flip(audio_file_re)\n",
    "\n",
    "np.array_equal(audio_file, audio_file_re_re)"
   ]
  },
  {
   "cell_type": "code",
   "execution_count": 39,
   "metadata": {},
   "outputs": [
    {
     "data": {
      "text/plain": [
       "False"
      ]
     },
     "execution_count": 39,
     "metadata": {},
     "output_type": "execute_result"
    }
   ],
   "source": [
    "a_re=np.flip(audio_file)\n",
    "\n",
    "\n",
    "\n",
    "np.array_equal(audio_file_re, a_re)"
   ]
  },
  {
   "cell_type": "code",
   "execution_count": null,
   "metadata": {},
   "outputs": [],
   "source": []
  },
  {
   "cell_type": "code",
   "execution_count": null,
   "metadata": {},
   "outputs": [],
   "source": []
  },
  {
   "cell_type": "code",
   "execution_count": 4,
   "metadata": {},
   "outputs": [],
   "source": [
    "import librosa\n",
    "y, sr_o = librosa.load(o_p, 16000)"
   ]
  },
  {
   "cell_type": "code",
   "execution_count": 5,
   "metadata": {},
   "outputs": [],
   "source": [
    "y_r ,sr_r = librosa.load(r_p, 16000)"
   ]
  },
  {
   "cell_type": "code",
   "execution_count": 20,
   "metadata": {},
   "outputs": [
    {
     "data": {
      "text/plain": [
       "True"
      ]
     },
     "execution_count": 20,
     "metadata": {},
     "output_type": "execute_result"
    }
   ],
   "source": [
    "np.array_equal(y, np.flip(y_r))"
   ]
  },
  {
   "cell_type": "code",
   "execution_count": 53,
   "metadata": {},
   "outputs": [],
   "source": [
    "from python_speech_features import mfcc\n",
    "\n",
    "\n",
    "ori_mfcc=mfcc(y, samplerate=sr_o, numcep=13, winlen=0.025)\n",
    "\n",
    "re_mfcc=mfcc(y_r, samplerate=sr_r, numcep=13, winlen=0.025)"
   ]
  },
  {
   "cell_type": "code",
   "execution_count": 54,
   "metadata": {},
   "outputs": [
    {
     "data": {
      "text/plain": [
       "(11200, 13)"
      ]
     },
     "execution_count": 54,
     "metadata": {},
     "output_type": "execute_result"
    }
   ],
   "source": [
    "ori_mfcc.shape"
   ]
  },
  {
   "cell_type": "code",
   "execution_count": 52,
   "metadata": {},
   "outputs": [
    {
     "data": {
      "text/plain": [
       "dtype('float64')"
      ]
     },
     "execution_count": 52,
     "metadata": {},
     "output_type": "execute_result"
    }
   ],
   "source": [
    "re_mfcc.dtype"
   ]
  },
  {
   "cell_type": "code",
   "execution_count": 44,
   "metadata": {},
   "outputs": [],
   "source": [
    "re_mfcc_re=np.flip(ori_mfcc)"
   ]
  },
  {
   "cell_type": "code",
   "execution_count": 46,
   "metadata": {},
   "outputs": [
    {
     "data": {
      "text/plain": [
       "False"
      ]
     },
     "execution_count": 46,
     "metadata": {},
     "output_type": "execute_result"
    }
   ],
   "source": [
    "np.array_equal(re_mfcc, re_mfcc_re)"
   ]
  },
  {
   "cell_type": "code",
   "execution_count": 47,
   "metadata": {},
   "outputs": [],
   "source": [
    "\n",
    "lib_mfcc_ori=librosa.feature.mfcc(y=y, sr=sr_o, n_mfcc=13)\n",
    "\n",
    "lib_mfcc_re=librosa.feature.mfcc(y=y_r, sr=sr_r, n_mfcc=13)"
   ]
  },
  {
   "cell_type": "code",
   "execution_count": 48,
   "metadata": {},
   "outputs": [
    {
     "data": {
      "text/plain": [
       "(13, 3501)"
      ]
     },
     "execution_count": 48,
     "metadata": {},
     "output_type": "execute_result"
    }
   ],
   "source": [
    "lib_mfcc_ori.shape"
   ]
  },
  {
   "cell_type": "code",
   "execution_count": 50,
   "metadata": {},
   "outputs": [
    {
     "data": {
      "text/plain": [
       "(13, 3501)"
      ]
     },
     "execution_count": 50,
     "metadata": {},
     "output_type": "execute_result"
    }
   ],
   "source": [
    "lib_mfcc_re.shape"
   ]
  },
  {
   "cell_type": "code",
   "execution_count": 51,
   "metadata": {},
   "outputs": [
    {
     "data": {
      "text/plain": [
       "dtype('float32')"
      ]
     },
     "execution_count": 51,
     "metadata": {},
     "output_type": "execute_result"
    }
   ],
   "source": [
    "lib_mfcc_ori.dtype"
   ]
  },
  {
   "cell_type": "code",
   "execution_count": 55,
   "metadata": {},
   "outputs": [],
   "source": [
    "re_re=np.flip(lib_mfcc_re)"
   ]
  },
  {
   "cell_type": "code",
   "execution_count": 56,
   "metadata": {},
   "outputs": [
    {
     "data": {
      "text/plain": [
       "False"
      ]
     },
     "execution_count": 56,
     "metadata": {},
     "output_type": "execute_result"
    }
   ],
   "source": [
    "np.array_equal(lib_mfcc_ori, re_re)"
   ]
  },
  {
   "cell_type": "code",
   "execution_count": 8,
   "metadata": {},
   "outputs": [
    {
     "name": "stdout",
     "output_type": "stream",
     "text": [
      "(1792144,)\n"
     ]
    },
    {
     "data": {
      "image/png": "[encoded data removed]",
      "text/plain": [
       "<Figure size 432x288 with 1 Axes>"
      ]
     },
     "metadata": {
      "needs_background": "light"
     },
     "output_type": "display_data"
    }
   ],
   "source": [
    "import matplotlib.pyplot as plt\n",
    "print(y.shape)\n",
    "plt.plot(y)\n",
    "plt.show()"
   ]
  },
  {
   "cell_type": "code",
   "execution_count": 58,
   "metadata": {},
   "outputs": [
    {
     "data": {
      "image/png": "[encoded data removed]",
      "text/plain": [
       "<Figure size 432x288 with 1 Axes>"
      ]
     },
     "metadata": {
      "needs_background": "light"
     },
     "output_type": "display_data"
    }
   ],
   "source": [
    "plt.plot(y_r)\n",
    "plt.show()"
   ]
  },
  {
   "cell_type": "code",
   "execution_count": 60,
   "metadata": {},
   "outputs": [],
   "source": [
    "s = librosa.core.stft(y, n_fft=800, hop_length=200, win_length=800)"
   ]
  },
  {
   "cell_type": "code",
   "execution_count": 62,
   "metadata": {},
   "outputs": [
    {
     "data": {
      "text/plain": [
       "(401, 8961)"
      ]
     },
     "execution_count": 62,
     "metadata": {},
     "output_type": "execute_result"
    }
   ],
   "source": [
    "s.shape"
   ]
  },
  {
   "cell_type": "code",
   "execution_count": 63,
   "metadata": {},
   "outputs": [
    {
     "name": "stderr",
     "output_type": "stream",
     "text": [
      "/home/chuhk/anaconda3/envs/nvp/lib/python3.8/site-packages/numpy/core/_asarray.py:83: ComplexWarning: Casting complex values to real discards the imaginary part\n",
      "  return array(a, dtype, copy=False, order=order)\n"
     ]
    },
    {
     "data": {
      "image/png": "[encoded data removed]",
      "text/plain": [
       "<Figure size 432x288 with 1 Axes>"
      ]
     },
     "metadata": {
      "needs_background": "light"
     },
     "output_type": "display_data"
    }
   ],
   "source": [
    "%matplotlib inline\n",
    "plt.plot(s)\n",
    "plt.show()"
   ]
  },
  {
   "cell_type": "code",
   "execution_count": 64,
   "metadata": {},
   "outputs": [],
   "source": [
    "s_re = librosa.core.stft(y_r, n_fft=800, hop_length=200, win_length=800)"
   ]
  },
  {
   "cell_type": "code",
   "execution_count": 65,
   "metadata": {},
   "outputs": [
    {
     "data": {
      "text/plain": [
       "(401, 8961)"
      ]
     },
     "execution_count": 65,
     "metadata": {},
     "output_type": "execute_result"
    }
   ],
   "source": [
    "s_re.shape"
   ]
  },
  {
   "cell_type": "code",
   "execution_count": 71,
   "metadata": {},
   "outputs": [
    {
     "name": "stderr",
     "output_type": "stream",
     "text": [
      "/home/chuhk/anaconda3/envs/nvp/lib/python3.8/site-packages/numpy/core/_asarray.py:83: ComplexWarning: Casting complex values to real discards the imaginary part\n",
      "  return array(a, dtype, copy=False, order=order)\n"
     ]
    },
    {
     "data": {
      "image/png": "[encoded data removed]",
      "text/plain": [
       "<Figure size 432x288 with 1 Axes>"
      ]
     },
     "metadata": {
      "needs_background": "light"
     },
     "output_type": "display_data"
    }
   ],
   "source": [
    "plt.plot(s_re)\n",
    "plt.show()"
   ]
  },
  {
   "cell_type": "code",
   "execution_count": 73,
   "metadata": {},
   "outputs": [
    {
     "data": {
      "text/plain": [
       "array([[-1.4188093e-03+0.0000000e+00j,  4.3402514e-03+0.0000000e+00j,\n",
       "         1.1196216e-02+0.0000000e+00j, ...,\n",
       "        -1.0024074e-02+0.0000000e+00j, -9.7052557e-03+0.0000000e+00j,\n",
       "        -1.7402901e-03+0.0000000e+00j],\n",
       "       [ 4.0764939e-03-1.9003280e-19j, -2.5115313e-03+5.6553348e-03j,\n",
       "        -6.8512028e-03+7.1512436e-04j, ...,\n",
       "         6.4919982e-03-2.3551486e-03j,  7.0622279e-03+2.2923567e-03j,\n",
       "         2.5320180e-05+5.5285161e-03j],\n",
       "       [-1.8924236e-03-1.5756471e-18j,  1.1481170e-03-4.8063020e-03j,\n",
       "         8.1350101e-04+2.9589736e-04j, ...,\n",
       "        -1.6333661e-03-6.5797009e-04j, -1.1982477e-03+6.6263386e-04j,\n",
       "         2.5442576e-03-3.7268572e-03j],\n",
       "       ...,\n",
       "       [ 8.3396561e-05+1.3181491e-18j, -5.8085188e-05-1.0316400e-03j,\n",
       "        -2.7219614e-05+8.7996147e-04j, ...,\n",
       "        -6.9574118e-05-9.9527184e-05j, -8.6903200e-04-6.8389723e-04j,\n",
       "         6.0567737e-04+5.5460440e-04j],\n",
       "       [-3.5927011e-04+2.6836977e-18j,  6.8023481e-04+7.6796586e-04j,\n",
       "         7.8613102e-04-7.8655063e-04j, ...,\n",
       "        -3.2367726e-04+8.3476474e-04j,  1.1030389e-03+3.7433291e-04j,\n",
       "         2.1156056e-04-8.0624927e-04j],\n",
       "       [-1.9619484e-04+0.0000000e+00j, -9.2686736e-04+0.0000000e+00j,\n",
       "        -8.8020402e-04+0.0000000e+00j, ...,\n",
       "         9.6012467e-05+0.0000000e+00j, -1.0970044e-03+0.0000000e+00j,\n",
       "        -6.6802534e-04+0.0000000e+00j]], dtype=complex64)"
      ]
     },
     "execution_count": 73,
     "metadata": {},
     "output_type": "execute_result"
    }
   ],
   "source": []
  },
  {
   "cell_type": "code",
   "execution_count": 66,
   "metadata": {},
   "outputs": [
    {
     "data": {
      "text/plain": [
       "False"
      ]
     },
     "execution_count": 66,
     "metadata": {},
     "output_type": "execute_result"
    }
   ],
   "source": [
    "np.array_equal(s, np.flip(s_re))"
   ]
  },
  {
   "cell_type": "code",
   "execution_count": 67,
   "metadata": {},
   "outputs": [],
   "source": [
    "ss=np.flip(s_re)"
   ]
  },
  {
   "cell_type": "code",
   "execution_count": 78,
   "metadata": {},
   "outputs": [
    {
     "ename": "ValueError",
     "evalue": "only 1-dimensional arrays can be used",
     "output_type": "error",
     "traceback": [
      "\u001b[0;31m---------------------------------------------------------------------------\u001b[0m",
      "\u001b[0;31mValueError\u001b[0m                                Traceback (most recent call last)",
      "\u001b[0;32m<ipython-input-78-bf1cd11c8654>\u001b[0m in \u001b[0;36m<module>\u001b[0;34m\u001b[0m\n\u001b[0;32m----> 1\u001b[0;31m \u001b[0mplt\u001b[0m\u001b[0;34m.\u001b[0m\u001b[0mspecgram\u001b[0m\u001b[0;34m(\u001b[0m\u001b[0mss\u001b[0m\u001b[0;34m,\u001b[0m \u001b[0mFs\u001b[0m\u001b[0;34m=\u001b[0m\u001b[0;36m16000\u001b[0m\u001b[0;34m)\u001b[0m\u001b[0;34m\u001b[0m\u001b[0;34m\u001b[0m\u001b[0m\n\u001b[0m\u001b[1;32m      2\u001b[0m \u001b[0mplt\u001b[0m\u001b[0;34m.\u001b[0m\u001b[0mshow\u001b[0m\u001b[0;34m(\u001b[0m\u001b[0;34m)\u001b[0m\u001b[0;34m\u001b[0m\u001b[0;34m\u001b[0m\u001b[0m\n",
      "\u001b[0;32m~/anaconda3/envs/nvp/lib/python3.8/site-packages/matplotlib/pyplot.py\u001b[0m in \u001b[0;36mspecgram\u001b[0;34m(x, NFFT, Fs, Fc, detrend, window, noverlap, cmap, xextent, pad_to, sides, scale_by_freq, mode, scale, vmin, vmax, data, **kwargs)\u001b[0m\n\u001b[1;32m   2917\u001b[0m         \u001b[0msides\u001b[0m\u001b[0;34m=\u001b[0m\u001b[0;32mNone\u001b[0m\u001b[0;34m,\u001b[0m \u001b[0mscale_by_freq\u001b[0m\u001b[0;34m=\u001b[0m\u001b[0;32mNone\u001b[0m\u001b[0;34m,\u001b[0m \u001b[0mmode\u001b[0m\u001b[0;34m=\u001b[0m\u001b[0;32mNone\u001b[0m\u001b[0;34m,\u001b[0m \u001b[0mscale\u001b[0m\u001b[0;34m=\u001b[0m\u001b[0;32mNone\u001b[0m\u001b[0;34m,\u001b[0m\u001b[0;34m\u001b[0m\u001b[0;34m\u001b[0m\u001b[0m\n\u001b[1;32m   2918\u001b[0m         vmin=None, vmax=None, *, data=None, **kwargs):\n\u001b[0;32m-> 2919\u001b[0;31m     __ret = gca().specgram(\n\u001b[0m\u001b[1;32m   2920\u001b[0m         \u001b[0mx\u001b[0m\u001b[0;34m,\u001b[0m \u001b[0mNFFT\u001b[0m\u001b[0;34m=\u001b[0m\u001b[0mNFFT\u001b[0m\u001b[0;34m,\u001b[0m \u001b[0mFs\u001b[0m\u001b[0;34m=\u001b[0m\u001b[0mFs\u001b[0m\u001b[0;34m,\u001b[0m \u001b[0mFc\u001b[0m\u001b[0;34m=\u001b[0m\u001b[0mFc\u001b[0m\u001b[0;34m,\u001b[0m \u001b[0mdetrend\u001b[0m\u001b[0;34m=\u001b[0m\u001b[0mdetrend\u001b[0m\u001b[0;34m,\u001b[0m \u001b[0mwindow\u001b[0m\u001b[0;34m=\u001b[0m\u001b[0mwindow\u001b[0m\u001b[0;34m,\u001b[0m\u001b[0;34m\u001b[0m\u001b[0;34m\u001b[0m\u001b[0m\n\u001b[1;32m   2921\u001b[0m         \u001b[0mnoverlap\u001b[0m\u001b[0;34m=\u001b[0m\u001b[0mnoverlap\u001b[0m\u001b[0;34m,\u001b[0m \u001b[0mcmap\u001b[0m\u001b[0;34m=\u001b[0m\u001b[0mcmap\u001b[0m\u001b[0;34m,\u001b[0m \u001b[0mxextent\u001b[0m\u001b[0;34m=\u001b[0m\u001b[0mxextent\u001b[0m\u001b[0;34m,\u001b[0m \u001b[0mpad_to\u001b[0m\u001b[0;34m=\u001b[0m\u001b[0mpad_to\u001b[0m\u001b[0;34m,\u001b[0m\u001b[0;34m\u001b[0m\u001b[0;34m\u001b[0m\u001b[0m\n",
      "\u001b[0;32m~/anaconda3/envs/nvp/lib/python3.8/site-packages/matplotlib/__init__.py\u001b[0m in \u001b[0;36minner\u001b[0;34m(ax, data, *args, **kwargs)\u001b[0m\n\u001b[1;32m   1436\u001b[0m     \u001b[0;32mdef\u001b[0m \u001b[0minner\u001b[0m\u001b[0;34m(\u001b[0m\u001b[0max\u001b[0m\u001b[0;34m,\u001b[0m \u001b[0;34m*\u001b[0m\u001b[0margs\u001b[0m\u001b[0;34m,\u001b[0m \u001b[0mdata\u001b[0m\u001b[0;34m=\u001b[0m\u001b[0;32mNone\u001b[0m\u001b[0;34m,\u001b[0m \u001b[0;34m**\u001b[0m\u001b[0mkwargs\u001b[0m\u001b[0;34m)\u001b[0m\u001b[0;34m:\u001b[0m\u001b[0;34m\u001b[0m\u001b[0;34m\u001b[0m\u001b[0m\n\u001b[1;32m   1437\u001b[0m         \u001b[0;32mif\u001b[0m \u001b[0mdata\u001b[0m \u001b[0;32mis\u001b[0m \u001b[0;32mNone\u001b[0m\u001b[0;34m:\u001b[0m\u001b[0;34m\u001b[0m\u001b[0;34m\u001b[0m\u001b[0m\n\u001b[0;32m-> 1438\u001b[0;31m             \u001b[0;32mreturn\u001b[0m \u001b[0mfunc\u001b[0m\u001b[0;34m(\u001b[0m\u001b[0max\u001b[0m\u001b[0;34m,\u001b[0m \u001b[0;34m*\u001b[0m\u001b[0mmap\u001b[0m\u001b[0;34m(\u001b[0m\u001b[0msanitize_sequence\u001b[0m\u001b[0;34m,\u001b[0m \u001b[0margs\u001b[0m\u001b[0;34m)\u001b[0m\u001b[0;34m,\u001b[0m \u001b[0;34m**\u001b[0m\u001b[0mkwargs\u001b[0m\u001b[0;34m)\u001b[0m\u001b[0;34m\u001b[0m\u001b[0;34m\u001b[0m\u001b[0m\n\u001b[0m\u001b[1;32m   1439\u001b[0m \u001b[0;34m\u001b[0m\u001b[0m\n\u001b[1;32m   1440\u001b[0m         \u001b[0mbound\u001b[0m \u001b[0;34m=\u001b[0m \u001b[0mnew_sig\u001b[0m\u001b[0;34m.\u001b[0m\u001b[0mbind\u001b[0m\u001b[0;34m(\u001b[0m\u001b[0max\u001b[0m\u001b[0;34m,\u001b[0m \u001b[0;34m*\u001b[0m\u001b[0margs\u001b[0m\u001b[0;34m,\u001b[0m \u001b[0;34m**\u001b[0m\u001b[0mkwargs\u001b[0m\u001b[0;34m)\u001b[0m\u001b[0;34m\u001b[0m\u001b[0;34m\u001b[0m\u001b[0m\n",
      "\u001b[0;32m~/anaconda3/envs/nvp/lib/python3.8/site-packages/matplotlib/axes/_axes.py\u001b[0m in \u001b[0;36mspecgram\u001b[0;34m(self, x, NFFT, Fs, Fc, detrend, window, noverlap, cmap, xextent, pad_to, sides, scale_by_freq, mode, scale, vmin, vmax, **kwargs)\u001b[0m\n\u001b[1;32m   7545\u001b[0m             \u001b[0;32mraise\u001b[0m \u001b[0mValueError\u001b[0m\u001b[0;34m(\u001b[0m\u001b[0;34m'Cannot use dB scale with angle or phase mode'\u001b[0m\u001b[0;34m)\u001b[0m\u001b[0;34m\u001b[0m\u001b[0;34m\u001b[0m\u001b[0m\n\u001b[1;32m   7546\u001b[0m \u001b[0;34m\u001b[0m\u001b[0m\n\u001b[0;32m-> 7547\u001b[0;31m         spec, freqs, t = mlab.specgram(x=x, NFFT=NFFT, Fs=Fs,\n\u001b[0m\u001b[1;32m   7548\u001b[0m                                        \u001b[0mdetrend\u001b[0m\u001b[0;34m=\u001b[0m\u001b[0mdetrend\u001b[0m\u001b[0;34m,\u001b[0m \u001b[0mwindow\u001b[0m\u001b[0;34m=\u001b[0m\u001b[0mwindow\u001b[0m\u001b[0;34m,\u001b[0m\u001b[0;34m\u001b[0m\u001b[0;34m\u001b[0m\u001b[0m\n\u001b[1;32m   7549\u001b[0m                                        \u001b[0mnoverlap\u001b[0m\u001b[0;34m=\u001b[0m\u001b[0mnoverlap\u001b[0m\u001b[0;34m,\u001b[0m \u001b[0mpad_to\u001b[0m\u001b[0;34m=\u001b[0m\u001b[0mpad_to\u001b[0m\u001b[0;34m,\u001b[0m\u001b[0;34m\u001b[0m\u001b[0;34m\u001b[0m\u001b[0m\n",
      "\u001b[0;32m~/anaconda3/envs/nvp/lib/python3.8/site-packages/matplotlib/mlab.py\u001b[0m in \u001b[0;36mspecgram\u001b[0;34m(x, NFFT, Fs, detrend, window, noverlap, pad_to, sides, scale_by_freq, mode)\u001b[0m\n\u001b[1;32m    896\u001b[0m                              (NFFT, len(x)))\n\u001b[1;32m    897\u001b[0m \u001b[0;34m\u001b[0m\u001b[0m\n\u001b[0;32m--> 898\u001b[0;31m     spec, freqs, t = _spectral_helper(x=x, y=None, NFFT=NFFT, Fs=Fs,\n\u001b[0m\u001b[1;32m    899\u001b[0m                                       \u001b[0mdetrend_func\u001b[0m\u001b[0;34m=\u001b[0m\u001b[0mdetrend\u001b[0m\u001b[0;34m,\u001b[0m \u001b[0mwindow\u001b[0m\u001b[0;34m=\u001b[0m\u001b[0mwindow\u001b[0m\u001b[0;34m,\u001b[0m\u001b[0;34m\u001b[0m\u001b[0;34m\u001b[0m\u001b[0m\n\u001b[1;32m    900\u001b[0m                                       \u001b[0mnoverlap\u001b[0m\u001b[0;34m=\u001b[0m\u001b[0mnoverlap\u001b[0m\u001b[0;34m,\u001b[0m \u001b[0mpad_to\u001b[0m\u001b[0;34m=\u001b[0m\u001b[0mpad_to\u001b[0m\u001b[0;34m,\u001b[0m\u001b[0;34m\u001b[0m\u001b[0;34m\u001b[0m\u001b[0m\n",
      "\u001b[0;32m~/anaconda3/envs/nvp/lib/python3.8/site-packages/matplotlib/mlab.py\u001b[0m in \u001b[0;36m_spectral_helper\u001b[0;34m(x, y, NFFT, Fs, detrend_func, window, noverlap, pad_to, sides, scale_by_freq, mode)\u001b[0m\n\u001b[1;32m    494\u001b[0m             \"The window length must match the data's first dimension\")\n\u001b[1;32m    495\u001b[0m \u001b[0;34m\u001b[0m\u001b[0m\n\u001b[0;32m--> 496\u001b[0;31m     \u001b[0mresult\u001b[0m \u001b[0;34m=\u001b[0m \u001b[0mstride_windows\u001b[0m\u001b[0;34m(\u001b[0m\u001b[0mx\u001b[0m\u001b[0;34m,\u001b[0m \u001b[0mNFFT\u001b[0m\u001b[0;34m,\u001b[0m \u001b[0mnoverlap\u001b[0m\u001b[0;34m,\u001b[0m \u001b[0maxis\u001b[0m\u001b[0;34m=\u001b[0m\u001b[0;36m0\u001b[0m\u001b[0;34m)\u001b[0m\u001b[0;34m\u001b[0m\u001b[0;34m\u001b[0m\u001b[0m\n\u001b[0m\u001b[1;32m    497\u001b[0m     \u001b[0mresult\u001b[0m \u001b[0;34m=\u001b[0m \u001b[0mdetrend\u001b[0m\u001b[0;34m(\u001b[0m\u001b[0mresult\u001b[0m\u001b[0;34m,\u001b[0m \u001b[0mdetrend_func\u001b[0m\u001b[0;34m,\u001b[0m \u001b[0maxis\u001b[0m\u001b[0;34m=\u001b[0m\u001b[0;36m0\u001b[0m\u001b[0;34m)\u001b[0m\u001b[0;34m\u001b[0m\u001b[0;34m\u001b[0m\u001b[0m\n\u001b[1;32m    498\u001b[0m     \u001b[0mresult\u001b[0m \u001b[0;34m=\u001b[0m \u001b[0mresult\u001b[0m \u001b[0;34m*\u001b[0m \u001b[0mwindow\u001b[0m\u001b[0;34m.\u001b[0m\u001b[0mreshape\u001b[0m\u001b[0;34m(\u001b[0m\u001b[0;34m(\u001b[0m\u001b[0;34m-\u001b[0m\u001b[0;36m1\u001b[0m\u001b[0;34m,\u001b[0m \u001b[0;36m1\u001b[0m\u001b[0;34m)\u001b[0m\u001b[0;34m)\u001b[0m\u001b[0;34m\u001b[0m\u001b[0;34m\u001b[0m\u001b[0m\n",
      "\u001b[0;32m~/anaconda3/envs/nvp/lib/python3.8/site-packages/matplotlib/mlab.py\u001b[0m in \u001b[0;36mstride_windows\u001b[0;34m(x, n, noverlap, axis)\u001b[0m\n\u001b[1;32m    323\u001b[0m \u001b[0;34m\u001b[0m\u001b[0m\n\u001b[1;32m    324\u001b[0m     \u001b[0;32mif\u001b[0m \u001b[0mx\u001b[0m\u001b[0;34m.\u001b[0m\u001b[0mndim\u001b[0m \u001b[0;34m!=\u001b[0m \u001b[0;36m1\u001b[0m\u001b[0;34m:\u001b[0m\u001b[0;34m\u001b[0m\u001b[0;34m\u001b[0m\u001b[0m\n\u001b[0;32m--> 325\u001b[0;31m         \u001b[0;32mraise\u001b[0m \u001b[0mValueError\u001b[0m\u001b[0;34m(\u001b[0m\u001b[0;34m'only 1-dimensional arrays can be used'\u001b[0m\u001b[0;34m)\u001b[0m\u001b[0;34m\u001b[0m\u001b[0;34m\u001b[0m\u001b[0m\n\u001b[0m\u001b[1;32m    326\u001b[0m     \u001b[0;32mif\u001b[0m \u001b[0mn\u001b[0m \u001b[0;34m==\u001b[0m \u001b[0;36m1\u001b[0m \u001b[0;32mand\u001b[0m \u001b[0mnoverlap\u001b[0m \u001b[0;34m==\u001b[0m \u001b[0;36m0\u001b[0m\u001b[0;34m:\u001b[0m\u001b[0;34m\u001b[0m\u001b[0;34m\u001b[0m\u001b[0m\n\u001b[1;32m    327\u001b[0m         \u001b[0;32mif\u001b[0m \u001b[0maxis\u001b[0m \u001b[0;34m==\u001b[0m \u001b[0;36m0\u001b[0m\u001b[0;34m:\u001b[0m\u001b[0;34m\u001b[0m\u001b[0;34m\u001b[0m\u001b[0m\n",
      "\u001b[0;31mValueError\u001b[0m: only 1-dimensional arrays can be used"
     ]
    },
    {
     "data": {
      "image/png": "[encoded data removed]",
      "text/plain": [
       "<Figure size 432x288 with 1 Axes>"
      ]
     },
     "metadata": {
      "needs_background": "light"
     },
     "output_type": "display_data"
    }
   ],
   "source": [
    "plt.plot(ss)\n",
    "plt.show"
   ]
  },
  {
   "cell_type": "code",
   "execution_count": 70,
   "metadata": {},
   "outputs": [
    {
     "data": {
      "text/plain": [
       "array([[ True, False, False, ..., False, False, False],\n",
       "       [ True, False, False, ..., False, False, False],\n",
       "       [ True, False, False, ..., False, False, False],\n",
       "       ...,\n",
       "       [ True, False, False, ..., False, False, False],\n",
       "       [ True, False, False, ..., False, False, False],\n",
       "       [ True, False, False, ..., False, False, False]])"
      ]
     },
     "execution_count": 70,
     "metadata": {},
     "output_type": "execute_result"
    }
   ],
   "source": [
    "s==ss"
   ]
  },
  {
   "cell_type": "code",
   "execution_count": 76,
   "metadata": {},
   "outputs": [
    {
     "data": {
      "text/plain": [
       "False"
      ]
     },
     "execution_count": 76,
     "metadata": {},
     "output_type": "execute_result"
    }
   ],
   "source": [
    "np.array_equal(s, s_re)"
   ]
  },
  {
   "cell_type": "code",
   "execution_count": 80,
   "metadata": {},
   "outputs": [],
   "source": [
    "a_path = './wav2lip/org5_audio.wav'\n",
    "\n",
    "are_path='./wav2lip/rev5_audio.wav'\n",
    "\n",
    "yy, srr=librosa.load(a_path)\n",
    "\n",
    "yyr, srrr=librosa.load(are_path)"
   ]
  },
  {
   "cell_type": "code",
   "execution_count": 81,
   "metadata": {},
   "outputs": [],
   "source": [
    "yyrr=np.flip(yyr)"
   ]
  },
  {
   "cell_type": "code",
   "execution_count": 82,
   "metadata": {},
   "outputs": [
    {
     "data": {
      "text/plain": [
       "False"
      ]
     },
     "execution_count": 82,
     "metadata": {},
     "output_type": "execute_result"
    }
   ],
   "source": [
    "np.array_equal(yy,yyrr)"
   ]
  },
  {
   "cell_type": "code",
   "execution_count": 83,
   "metadata": {},
   "outputs": [
    {
     "data": {
      "text/plain": [
       "(110016,)"
      ]
     },
     "execution_count": 83,
     "metadata": {},
     "output_type": "execute_result"
    }
   ],
   "source": [
    "yy.shape"
   ]
  },
  {
   "cell_type": "code",
   "execution_count": 84,
   "metadata": {},
   "outputs": [
    {
     "data": {
      "text/plain": [
       "(110016,)"
      ]
     },
     "execution_count": 84,
     "metadata": {},
     "output_type": "execute_result"
    }
   ],
   "source": [
    "yyr.shape"
   ]
  },
  {
   "cell_type": "code",
   "execution_count": 85,
   "metadata": {},
   "outputs": [
    {
     "data": {
      "text/plain": [
       "array([ 0.        ,  0.        ,  0.        , ..., -0.19059968,\n",
       "       -0.13299823, -0.03669631], dtype=float32)"
      ]
     },
     "execution_count": 85,
     "metadata": {},
     "output_type": "execute_result"
    }
   ],
   "source": [
    "yy"
   ]
  },
  {
   "cell_type": "code",
   "execution_count": 86,
   "metadata": {},
   "outputs": [
    {
     "data": {
      "text/plain": [
       "array([-0.00820639, -0.0810187 , -0.177187  , ...,  0.        ,\n",
       "        0.        ,  0.        ], dtype=float32)"
      ]
     },
     "execution_count": 86,
     "metadata": {},
     "output_type": "execute_result"
    }
   ],
   "source": [
    "yyr"
   ]
  },
  {
   "cell_type": "code",
   "execution_count": null,
   "metadata": {},
   "outputs": [],
   "source": []
  }
 ],
 "metadata": {
  "kernelspec": {
   "display_name": "Python 3",
   "language": "python",
   "name": "python3"
  },
  "language_info": {
   "codemirror_mode": {
    "name": "ipython",
    "version": 3
   },
   "file_extension": ".py",
   "mimetype": "text/x-python",
   "name": "python",
   "nbconvert_exporter": "python",
   "pygments_lexer": "ipython3",
   "version": "3.6.12"
  }
 },
 "nbformat": 4,
 "nbformat_minor": 4
}
