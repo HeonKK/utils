{
 "cells": [
  {
   "cell_type": "code",
   "execution_count": 6,
   "metadata": {},
   "outputs": [],
   "source": [
    "import cv2\n",
    "import numpy as np\n",
    "import os\n",
    "from os.path import isfile, join\n",
    "pathIn= '/home/chuhk/everybody_dance_now/datasets/train_B/'\n",
    "fps = 0.5\n",
    "frame_array = []\n",
    "files = [f for f in os.listdir(pathIn) if isfile(join(pathIn, f))]\n",
    "count = 1\n",
    "#for sorting the file names properly\n",
    "files.sort(key = lambda x: x[5:-4])\n",
    "files.sort()\n",
    "files = [f for f in os.listdir(pathIn) if isfile(join(pathIn, f))]\n",
    "#for sorting the file names properly\n",
    "files.sort(key = lambda x: x[5:-4])\n",
    "for i in range(len(files)):\n",
    "    filename=pathIn + files[i]\n",
    "    #print(files[i])\n",
    "    #reading each files\n",
    "    img = cv2.imread(filename)\n",
    "    height, width, layers = img.shape\n",
    "    size = (width,height)\n",
    "    dst = cv2.resize(img, dsize=(512, 288), interpolation=cv2.INTER_AREA)\n",
    "    cv2.imwrite(\"/home/chuhk/everybody_dance_now/datasets/train_B_re/\"+files[i], dst)\n",
    "#    cv2.imwrite('%03d.png'%count, dst)\n",
    "    count += 1\n",
    "    "
   ]
  },
  {
   "cell_type": "code",
   "execution_count": null,
   "metadata": {},
   "outputs": [],
   "source": []
  },
  {
   "cell_type": "code",
   "execution_count": null,
   "metadata": {},
   "outputs": [],
   "source": []
  }
 ],
 "metadata": {
  "kernelspec": {
   "display_name": "Python 3",
   "language": "python",
   "name": "python3"
  },
  "language_info": {
   "codemirror_mode": {
    "name": "ipython",
    "version": 3
   },
   "file_extension": ".py",
   "mimetype": "text/x-python",
   "name": "python",
   "nbconvert_exporter": "python",
   "pygments_lexer": "ipython3",
   "version": "3.6.10"
  }
 },
 "nbformat": 4,
 "nbformat_minor": 4
}
